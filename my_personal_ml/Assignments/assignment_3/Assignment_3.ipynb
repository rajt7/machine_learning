{
  "cells": [
    {
      "cell_type": "code",
      "execution_count": 11,
      "metadata": {
        "id": "9PY1wzAlOLCk"
      },
      "outputs": [],
      "source": [
        "import pandas as pd\n",
        "import numpy as np\n",
        "from sklearn.model_selection import train_test_split, GridSearchCV, KFold\n",
        "from sklearn.preprocessing import StandardScaler, LabelEncoder, MinMaxScaler\n",
        "from sklearn.pipeline import Pipeline\n",
        "from sklearn.svm import SVC\n",
        "from sklearn.metrics import accuracy_score"
      ]
    },
    {
      "cell_type": "code",
      "execution_count": 12,
      "metadata": {
        "colab": {
          "base_uri": "https://localhost:8080/",
          "height": 255
        },
        "id": "QT3SSboLOl23",
        "outputId": "a6ccd9e2-497c-48a6-c97e-e82cab78f82b"
      },
      "outputs": [
        {
          "output_type": "execute_result",
          "data": {
            "text/plain": [
              "    fixed acidity  volatile acidity  citric acid  residual sugar  chlorides  \\\n",
              "Id                                                                            \n",
              "0             8.0              0.50         0.39             2.2      0.073   \n",
              "1             9.3              0.30         0.73             2.3      0.092   \n",
              "2             7.1              0.51         0.03             2.1      0.059   \n",
              "3             8.1              0.87         0.22             2.6      0.084   \n",
              "4             8.5              0.36         0.30             2.3      0.079   \n",
              "\n",
              "    free sulfur dioxide  total sulfur dioxide  density    pH  sulphates  \\\n",
              "Id                                                                        \n",
              "0                  30.0                  39.0  0.99572  3.33       0.77   \n",
              "1                  30.0                  67.0  0.99854  3.32       0.67   \n",
              "2                   3.0                  12.0  0.99660  3.52       0.73   \n",
              "3                  11.0                  65.0  0.99730  3.20       0.53   \n",
              "4                  10.0                  45.0  0.99444  3.20       1.36   \n",
              "\n",
              "    alcohol  quality  \n",
              "Id                    \n",
              "0      12.1        6  \n",
              "1      12.8        6  \n",
              "2      11.3        7  \n",
              "3       9.8        5  \n",
              "4       9.5        6  "
            ],
            "text/html": [
              "\n",
              "  <div id=\"df-b0e1e705-ada8-4d80-8bc7-8ba93b879280\" class=\"colab-df-container\">\n",
              "    <div>\n",
              "<style scoped>\n",
              "    .dataframe tbody tr th:only-of-type {\n",
              "        vertical-align: middle;\n",
              "    }\n",
              "\n",
              "    .dataframe tbody tr th {\n",
              "        vertical-align: top;\n",
              "    }\n",
              "\n",
              "    .dataframe thead th {\n",
              "        text-align: right;\n",
              "    }\n",
              "</style>\n",
              "<table border=\"1\" class=\"dataframe\">\n",
              "  <thead>\n",
              "    <tr style=\"text-align: right;\">\n",
              "      <th></th>\n",
              "      <th>fixed acidity</th>\n",
              "      <th>volatile acidity</th>\n",
              "      <th>citric acid</th>\n",
              "      <th>residual sugar</th>\n",
              "      <th>chlorides</th>\n",
              "      <th>free sulfur dioxide</th>\n",
              "      <th>total sulfur dioxide</th>\n",
              "      <th>density</th>\n",
              "      <th>pH</th>\n",
              "      <th>sulphates</th>\n",
              "      <th>alcohol</th>\n",
              "      <th>quality</th>\n",
              "    </tr>\n",
              "    <tr>\n",
              "      <th>Id</th>\n",
              "      <th></th>\n",
              "      <th></th>\n",
              "      <th></th>\n",
              "      <th></th>\n",
              "      <th></th>\n",
              "      <th></th>\n",
              "      <th></th>\n",
              "      <th></th>\n",
              "      <th></th>\n",
              "      <th></th>\n",
              "      <th></th>\n",
              "      <th></th>\n",
              "    </tr>\n",
              "  </thead>\n",
              "  <tbody>\n",
              "    <tr>\n",
              "      <th>0</th>\n",
              "      <td>8.0</td>\n",
              "      <td>0.50</td>\n",
              "      <td>0.39</td>\n",
              "      <td>2.2</td>\n",
              "      <td>0.073</td>\n",
              "      <td>30.0</td>\n",
              "      <td>39.0</td>\n",
              "      <td>0.99572</td>\n",
              "      <td>3.33</td>\n",
              "      <td>0.77</td>\n",
              "      <td>12.1</td>\n",
              "      <td>6</td>\n",
              "    </tr>\n",
              "    <tr>\n",
              "      <th>1</th>\n",
              "      <td>9.3</td>\n",
              "      <td>0.30</td>\n",
              "      <td>0.73</td>\n",
              "      <td>2.3</td>\n",
              "      <td>0.092</td>\n",
              "      <td>30.0</td>\n",
              "      <td>67.0</td>\n",
              "      <td>0.99854</td>\n",
              "      <td>3.32</td>\n",
              "      <td>0.67</td>\n",
              "      <td>12.8</td>\n",
              "      <td>6</td>\n",
              "    </tr>\n",
              "    <tr>\n",
              "      <th>2</th>\n",
              "      <td>7.1</td>\n",
              "      <td>0.51</td>\n",
              "      <td>0.03</td>\n",
              "      <td>2.1</td>\n",
              "      <td>0.059</td>\n",
              "      <td>3.0</td>\n",
              "      <td>12.0</td>\n",
              "      <td>0.99660</td>\n",
              "      <td>3.52</td>\n",
              "      <td>0.73</td>\n",
              "      <td>11.3</td>\n",
              "      <td>7</td>\n",
              "    </tr>\n",
              "    <tr>\n",
              "      <th>3</th>\n",
              "      <td>8.1</td>\n",
              "      <td>0.87</td>\n",
              "      <td>0.22</td>\n",
              "      <td>2.6</td>\n",
              "      <td>0.084</td>\n",
              "      <td>11.0</td>\n",
              "      <td>65.0</td>\n",
              "      <td>0.99730</td>\n",
              "      <td>3.20</td>\n",
              "      <td>0.53</td>\n",
              "      <td>9.8</td>\n",
              "      <td>5</td>\n",
              "    </tr>\n",
              "    <tr>\n",
              "      <th>4</th>\n",
              "      <td>8.5</td>\n",
              "      <td>0.36</td>\n",
              "      <td>0.30</td>\n",
              "      <td>2.3</td>\n",
              "      <td>0.079</td>\n",
              "      <td>10.0</td>\n",
              "      <td>45.0</td>\n",
              "      <td>0.99444</td>\n",
              "      <td>3.20</td>\n",
              "      <td>1.36</td>\n",
              "      <td>9.5</td>\n",
              "      <td>6</td>\n",
              "    </tr>\n",
              "  </tbody>\n",
              "</table>\n",
              "</div>\n",
              "    <div class=\"colab-df-buttons\">\n",
              "\n",
              "  <div class=\"colab-df-container\">\n",
              "    <button class=\"colab-df-convert\" onclick=\"convertToInteractive('df-b0e1e705-ada8-4d80-8bc7-8ba93b879280')\"\n",
              "            title=\"Convert this dataframe to an interactive table.\"\n",
              "            style=\"display:none;\">\n",
              "\n",
              "  <svg xmlns=\"http://www.w3.org/2000/svg\" height=\"24px\" viewBox=\"0 -960 960 960\">\n",
              "    <path d=\"M120-120v-720h720v720H120Zm60-500h600v-160H180v160Zm220 220h160v-160H400v160Zm0 220h160v-160H400v160ZM180-400h160v-160H180v160Zm440 0h160v-160H620v160ZM180-180h160v-160H180v160Zm440 0h160v-160H620v160Z\"/>\n",
              "  </svg>\n",
              "    </button>\n",
              "\n",
              "  <style>\n",
              "    .colab-df-container {\n",
              "      display:flex;\n",
              "      gap: 12px;\n",
              "    }\n",
              "\n",
              "    .colab-df-convert {\n",
              "      background-color: #E8F0FE;\n",
              "      border: none;\n",
              "      border-radius: 50%;\n",
              "      cursor: pointer;\n",
              "      display: none;\n",
              "      fill: #1967D2;\n",
              "      height: 32px;\n",
              "      padding: 0 0 0 0;\n",
              "      width: 32px;\n",
              "    }\n",
              "\n",
              "    .colab-df-convert:hover {\n",
              "      background-color: #E2EBFA;\n",
              "      box-shadow: 0px 1px 2px rgba(60, 64, 67, 0.3), 0px 1px 3px 1px rgba(60, 64, 67, 0.15);\n",
              "      fill: #174EA6;\n",
              "    }\n",
              "\n",
              "    .colab-df-buttons div {\n",
              "      margin-bottom: 4px;\n",
              "    }\n",
              "\n",
              "    [theme=dark] .colab-df-convert {\n",
              "      background-color: #3B4455;\n",
              "      fill: #D2E3FC;\n",
              "    }\n",
              "\n",
              "    [theme=dark] .colab-df-convert:hover {\n",
              "      background-color: #434B5C;\n",
              "      box-shadow: 0px 1px 3px 1px rgba(0, 0, 0, 0.15);\n",
              "      filter: drop-shadow(0px 1px 2px rgba(0, 0, 0, 0.3));\n",
              "      fill: #FFFFFF;\n",
              "    }\n",
              "  </style>\n",
              "\n",
              "    <script>\n",
              "      const buttonEl =\n",
              "        document.querySelector('#df-b0e1e705-ada8-4d80-8bc7-8ba93b879280 button.colab-df-convert');\n",
              "      buttonEl.style.display =\n",
              "        google.colab.kernel.accessAllowed ? 'block' : 'none';\n",
              "\n",
              "      async function convertToInteractive(key) {\n",
              "        const element = document.querySelector('#df-b0e1e705-ada8-4d80-8bc7-8ba93b879280');\n",
              "        const dataTable =\n",
              "          await google.colab.kernel.invokeFunction('convertToInteractive',\n",
              "                                                    [key], {});\n",
              "        if (!dataTable) return;\n",
              "\n",
              "        const docLinkHtml = 'Like what you see? Visit the ' +\n",
              "          '<a target=\"_blank\" href=https://colab.research.google.com/notebooks/data_table.ipynb>data table notebook</a>'\n",
              "          + ' to learn more about interactive tables.';\n",
              "        element.innerHTML = '';\n",
              "        dataTable['output_type'] = 'display_data';\n",
              "        await google.colab.output.renderOutput(dataTable, element);\n",
              "        const docLink = document.createElement('div');\n",
              "        docLink.innerHTML = docLinkHtml;\n",
              "        element.appendChild(docLink);\n",
              "      }\n",
              "    </script>\n",
              "  </div>\n",
              "\n",
              "\n",
              "<div id=\"df-4f02d676-c802-4f47-a00c-9cc04337edc3\">\n",
              "  <button class=\"colab-df-quickchart\" onclick=\"quickchart('df-4f02d676-c802-4f47-a00c-9cc04337edc3')\"\n",
              "            title=\"Suggest charts\"\n",
              "            style=\"display:none;\">\n",
              "\n",
              "<svg xmlns=\"http://www.w3.org/2000/svg\" height=\"24px\"viewBox=\"0 0 24 24\"\n",
              "     width=\"24px\">\n",
              "    <g>\n",
              "        <path d=\"M19 3H5c-1.1 0-2 .9-2 2v14c0 1.1.9 2 2 2h14c1.1 0 2-.9 2-2V5c0-1.1-.9-2-2-2zM9 17H7v-7h2v7zm4 0h-2V7h2v10zm4 0h-2v-4h2v4z\"/>\n",
              "    </g>\n",
              "</svg>\n",
              "  </button>\n",
              "\n",
              "<style>\n",
              "  .colab-df-quickchart {\n",
              "      --bg-color: #E8F0FE;\n",
              "      --fill-color: #1967D2;\n",
              "      --hover-bg-color: #E2EBFA;\n",
              "      --hover-fill-color: #174EA6;\n",
              "      --disabled-fill-color: #AAA;\n",
              "      --disabled-bg-color: #DDD;\n",
              "  }\n",
              "\n",
              "  [theme=dark] .colab-df-quickchart {\n",
              "      --bg-color: #3B4455;\n",
              "      --fill-color: #D2E3FC;\n",
              "      --hover-bg-color: #434B5C;\n",
              "      --hover-fill-color: #FFFFFF;\n",
              "      --disabled-bg-color: #3B4455;\n",
              "      --disabled-fill-color: #666;\n",
              "  }\n",
              "\n",
              "  .colab-df-quickchart {\n",
              "    background-color: var(--bg-color);\n",
              "    border: none;\n",
              "    border-radius: 50%;\n",
              "    cursor: pointer;\n",
              "    display: none;\n",
              "    fill: var(--fill-color);\n",
              "    height: 32px;\n",
              "    padding: 0;\n",
              "    width: 32px;\n",
              "  }\n",
              "\n",
              "  .colab-df-quickchart:hover {\n",
              "    background-color: var(--hover-bg-color);\n",
              "    box-shadow: 0 1px 2px rgba(60, 64, 67, 0.3), 0 1px 3px 1px rgba(60, 64, 67, 0.15);\n",
              "    fill: var(--button-hover-fill-color);\n",
              "  }\n",
              "\n",
              "  .colab-df-quickchart-complete:disabled,\n",
              "  .colab-df-quickchart-complete:disabled:hover {\n",
              "    background-color: var(--disabled-bg-color);\n",
              "    fill: var(--disabled-fill-color);\n",
              "    box-shadow: none;\n",
              "  }\n",
              "\n",
              "  .colab-df-spinner {\n",
              "    border: 2px solid var(--fill-color);\n",
              "    border-color: transparent;\n",
              "    border-bottom-color: var(--fill-color);\n",
              "    animation:\n",
              "      spin 1s steps(1) infinite;\n",
              "  }\n",
              "\n",
              "  @keyframes spin {\n",
              "    0% {\n",
              "      border-color: transparent;\n",
              "      border-bottom-color: var(--fill-color);\n",
              "      border-left-color: var(--fill-color);\n",
              "    }\n",
              "    20% {\n",
              "      border-color: transparent;\n",
              "      border-left-color: var(--fill-color);\n",
              "      border-top-color: var(--fill-color);\n",
              "    }\n",
              "    30% {\n",
              "      border-color: transparent;\n",
              "      border-left-color: var(--fill-color);\n",
              "      border-top-color: var(--fill-color);\n",
              "      border-right-color: var(--fill-color);\n",
              "    }\n",
              "    40% {\n",
              "      border-color: transparent;\n",
              "      border-right-color: var(--fill-color);\n",
              "      border-top-color: var(--fill-color);\n",
              "    }\n",
              "    60% {\n",
              "      border-color: transparent;\n",
              "      border-right-color: var(--fill-color);\n",
              "    }\n",
              "    80% {\n",
              "      border-color: transparent;\n",
              "      border-right-color: var(--fill-color);\n",
              "      border-bottom-color: var(--fill-color);\n",
              "    }\n",
              "    90% {\n",
              "      border-color: transparent;\n",
              "      border-bottom-color: var(--fill-color);\n",
              "    }\n",
              "  }\n",
              "</style>\n",
              "\n",
              "  <script>\n",
              "    async function quickchart(key) {\n",
              "      const quickchartButtonEl =\n",
              "        document.querySelector('#' + key + ' button');\n",
              "      quickchartButtonEl.disabled = true;  // To prevent multiple clicks.\n",
              "      quickchartButtonEl.classList.add('colab-df-spinner');\n",
              "      try {\n",
              "        const charts = await google.colab.kernel.invokeFunction(\n",
              "            'suggestCharts', [key], {});\n",
              "      } catch (error) {\n",
              "        console.error('Error during call to suggestCharts:', error);\n",
              "      }\n",
              "      quickchartButtonEl.classList.remove('colab-df-spinner');\n",
              "      quickchartButtonEl.classList.add('colab-df-quickchart-complete');\n",
              "    }\n",
              "    (() => {\n",
              "      let quickchartButtonEl =\n",
              "        document.querySelector('#df-4f02d676-c802-4f47-a00c-9cc04337edc3 button');\n",
              "      quickchartButtonEl.style.display =\n",
              "        google.colab.kernel.accessAllowed ? 'block' : 'none';\n",
              "    })();\n",
              "  </script>\n",
              "</div>\n",
              "    </div>\n",
              "  </div>\n"
            ]
          },
          "metadata": {},
          "execution_count": 12
        }
      ],
      "source": [
        "df_train = pd.read_csv('./wine_train.csv', index_col=0)\n",
        "df_test = pd.read_csv('./wine_test.csv', index_col=0)\n",
        "df_train.head()"
      ]
    },
    {
      "cell_type": "code",
      "execution_count": 4,
      "metadata": {
        "colab": {
          "base_uri": "https://localhost:8080/"
        },
        "id": "ibGndUDKPGk9",
        "outputId": "19007b0f-fbbf-40a7-d57b-6329813312ca"
      },
      "outputs": [
        {
          "output_type": "execute_result",
          "data": {
            "text/plain": [
              "fixed acidity           0\n",
              "volatile acidity        0\n",
              "citric acid             0\n",
              "residual sugar          0\n",
              "chlorides               0\n",
              "free sulfur dioxide     0\n",
              "total sulfur dioxide    0\n",
              "density                 0\n",
              "pH                      0\n",
              "sulphates               0\n",
              "alcohol                 0\n",
              "quality                 0\n",
              "dtype: int64"
            ]
          },
          "metadata": {},
          "execution_count": 4
        }
      ],
      "source": [
        "df_train.isnull().sum()"
      ]
    },
    {
      "cell_type": "code",
      "execution_count": 5,
      "metadata": {
        "colab": {
          "base_uri": "https://localhost:8080/"
        },
        "id": "r13ZIXBKP0Z_",
        "outputId": "a83bf131-f37f-460f-9237-6fc97bf170b3"
      },
      "outputs": [
        {
          "output_type": "execute_result",
          "data": {
            "text/plain": [
              "array([6, 7, 5, 4, 8, 3])"
            ]
          },
          "metadata": {},
          "execution_count": 5
        }
      ],
      "source": [
        "df_train['quality'].unique()"
      ]
    },
    {
      "cell_type": "code",
      "execution_count": 6,
      "metadata": {
        "id": "Iq0DSHyPkNqC"
      },
      "outputs": [],
      "source": [
        "X_train = df_train.drop('quality', axis=1)\n",
        "y_train = df_train['quality']"
      ]
    },
    {
      "cell_type": "code",
      "execution_count": 7,
      "metadata": {
        "id": "pEnmb4emnxzC"
      },
      "outputs": [],
      "source": [
        "X_test = df_test"
      ]
    },
    {
      "cell_type": "code",
      "execution_count": 8,
      "metadata": {
        "id": "IHztIDtDkkZN"
      },
      "outputs": [],
      "source": [
        "pipe1 = Pipeline([\n",
        "    ('scaler', StandardScaler()),\n",
        "    ('clf', SVC(probability=True, random_state=42))\n",
        "])\n",
        "kfold = KFold(n_splits=5, shuffle=True, random_state=42)"
      ]
    },
    {
      "cell_type": "markdown",
      "metadata": {
        "id": "S3AXR92rl00V"
      },
      "source": [
        "### SVM with Standard Scaler and linear Kernel"
      ]
    },
    {
      "cell_type": "code",
      "execution_count": null,
      "metadata": {
        "colab": {
          "base_uri": "https://localhost:8080/"
        },
        "id": "RitM7_rJlzZV",
        "outputId": "f9e8b3c9-be3a-4dd7-e399-3f56bd246fa9"
      },
      "outputs": [
        {
          "name": "stdout",
          "output_type": "stream",
          "text": [
            "Best parameters for SVM without scaling in linear on Y: {'clf__C': 2.778222222222222, 'clf__decision_function_shape': 'ovo', 'clf__kernel': 'linear', 'scaler': StandardScaler()}\n",
            "Best score for SVM without scaling in linear on Y: -1.0559353409491075\n"
          ]
        }
      ],
      "source": [
        "params1 = {\n",
        "    'scaler': [StandardScaler()],\n",
        "    'clf__C': np.linspace(0.001, 5, 10),\n",
        "    'clf__kernel': ['linear'],\n",
        "    'clf__decision_function_shape': ['ovo', 'ovr']\n",
        "}\n",
        "gcv1 = GridSearchCV(pipe1, params1, cv=kfold, scoring='neg_log_loss')\n",
        "gcv1.fit(X_train, y_train)\n",
        "\n",
        "print(f\"Best parameters for SVM in linear on Y: {gcv1.best_params_}\")\n",
        "print(f\"Best score for SVM in linear on Y: {gcv1.best_score_}\")"
      ]
    },
    {
      "cell_type": "code",
      "execution_count": null,
      "metadata": {
        "id": "MrdiW5DTnYd7"
      },
      "outputs": [],
      "source": [
        "bm1 = gcv1.best_estimator_\n",
        "y_pred1 = bm1.predict(X_test)\n",
        "df1 = pd.DataFrame({\n",
        "    'Id': X_test.index,\n",
        "    'quality': y_pred1\n",
        "})\n",
        "df1.to_csv('submission.csv', index=False)"
      ]
    },
    {
      "cell_type": "markdown",
      "metadata": {
        "id": "kVMPBg2bqAKa"
      },
      "source": [
        "### SVM with MinMax Scaler and linear Kernel"
      ]
    },
    {
      "cell_type": "code",
      "execution_count": 14,
      "metadata": {
        "colab": {
          "base_uri": "https://localhost:8080/"
        },
        "id": "ULQ44pjIp8zx",
        "outputId": "09cd796c-ae86-4e07-d0df-b867c21d5c71"
      },
      "outputs": [
        {
          "output_type": "stream",
          "name": "stdout",
          "text": [
            "Best parameters for SVM in linear with MinMax scaler on Y: {'clf__C': 2.2227777777777775, 'clf__decision_function_shape': 'ovo', 'clf__kernel': 'linear', 'scaler': MinMaxScaler()}\n",
            "Best score for SVM in linear with MinMax scaler on Y: -1.0549571476474262\n"
          ]
        }
      ],
      "source": [
        "params2 = {\n",
        "    'scaler': [MinMaxScaler()],\n",
        "    'clf__C': np.linspace(0.001, 5, 10),\n",
        "    'clf__kernel': ['linear'],\n",
        "    'clf__decision_function_shape': ['ovo', 'ovr']\n",
        "}\n",
        "gcv2 = GridSearchCV(pipe1, params2, cv=kfold, scoring='neg_log_loss')\n",
        "gcv2.fit(X_train, y_train)\n",
        "\n",
        "print(f\"Best parameters for SVM in linear with MinMax scaler on Y: {gcv2.best_params_}\")\n",
        "print(f\"Best score for SVM in linear with MinMax scaler on Y: {gcv2.best_score_}\")"
      ]
    },
    {
      "cell_type": "code",
      "execution_count": 15,
      "metadata": {
        "id": "cemGhBTXuKC5"
      },
      "outputs": [],
      "source": [
        "bm2 = gcv2.best_estimator_\n",
        "y_pred2 = bm2.predict(X_test)\n",
        "df2 = pd.DataFrame({\n",
        "    'Id': X_test.index,\n",
        "    'quality': y_pred2\n",
        "})\n",
        "df2.to_csv('submission2.csv', index=False)"
      ]
    },
    {
      "cell_type": "markdown",
      "source": [
        "### SVM with Standard Scaler and RBF Kernel"
      ],
      "metadata": {
        "id": "rl4GRHULFtyh"
      }
    },
    {
      "cell_type": "code",
      "execution_count": 9,
      "metadata": {
        "colab": {
          "base_uri": "https://localhost:8080/"
        },
        "id": "NvrFN5Swut1g",
        "outputId": "450d41fc-a010-48a4-822d-28757c949a4c"
      },
      "outputs": [
        {
          "output_type": "stream",
          "name": "stdout",
          "text": [
            "Best parameters for SVM in RBF with Satndard scaler on Y: {'clf__C': 0.5564444444444444, 'clf__decision_function_shape': 'ovo', 'clf__gamma': 'scale', 'scaler': StandardScaler()}\n",
            "Best score for SVM in RBF with Satndard scaler on Y: -1.0425974678103647\n"
          ]
        }
      ],
      "source": [
        "params3 = {\n",
        "    'scaler': [StandardScaler()],\n",
        "    'clf__C': np.linspace(0.001, 5, 10),\n",
        "    'clf__gamma': list(np.linspace(0.001, 5, 10)) + ['scale', 'auto'],\n",
        "    'clf__decision_function_shape': ['ovo', 'ovr']\n",
        "}\n",
        "gcv3 = GridSearchCV(pipe1, params3, cv=kfold, scoring='neg_log_loss')\n",
        "gcv3.fit(X_train, y_train)\n",
        "\n",
        "print(f\"Best parameters for SVM in RBF with Satndard scaler on Y: {gcv3.best_params_}\")\n",
        "print(f\"Best score for SVM in RBF with Satndard scaler on Y: {gcv3.best_score_}\")"
      ]
    },
    {
      "cell_type": "code",
      "execution_count": 13,
      "metadata": {
        "id": "Z_opHcwQvFvL"
      },
      "outputs": [],
      "source": [
        "bm3 = gcv3.best_estimator_\n",
        "y_pred3 = bm3.predict(X_test)\n",
        "df3 = pd.DataFrame({\n",
        "    'Id': X_test.index,\n",
        "    'quality': y_pred3\n",
        "})\n",
        "df3.to_csv('submission3.csv', index=False)"
      ]
    },
    {
      "cell_type": "markdown",
      "source": [
        "### SVM with MinMax Scaler and RBF Kernel"
      ],
      "metadata": {
        "id": "JoFWJVjNF6RS"
      }
    },
    {
      "cell_type": "code",
      "execution_count": 16,
      "metadata": {
        "id": "8ji8OeWtvOPu",
        "colab": {
          "base_uri": "https://localhost:8080/"
        },
        "outputId": "9707ba80-7de1-48b4-834f-230e6dd897fb"
      },
      "outputs": [
        {
          "output_type": "stream",
          "name": "stdout",
          "text": [
            "Best parameters for SVM in RBF with MinMax scaler on Y: {'clf__C': 5.0, 'clf__decision_function_shape': 'ovo', 'clf__gamma': 0.5564444444444444, 'scaler': MinMaxScaler()}\n",
            "Best score for SVM in RBF with MinMax scaler on Y: -1.035477761822175\n"
          ]
        }
      ],
      "source": [
        "params4 = {\n",
        "    'scaler': [MinMaxScaler()],\n",
        "    'clf__C': np.linspace(0.001, 5, 10),\n",
        "    'clf__gamma': list(np.linspace(0.001, 5, 10)) + ['scale', 'auto'],\n",
        "    'clf__decision_function_shape': ['ovo', 'ovr']\n",
        "}\n",
        "gcv4 = GridSearchCV(pipe1, params4, cv=kfold, scoring='neg_log_loss')\n",
        "gcv4.fit(X_train, y_train)\n",
        "\n",
        "print(f\"Best parameters for SVM in RBF with MinMax scaler on Y: {gcv4.best_params_}\")\n",
        "print(f\"Best score for SVM in RBF with MinMax scaler on Y: {gcv4.best_score_}\")"
      ]
    },
    {
      "cell_type": "code",
      "execution_count": 17,
      "metadata": {
        "id": "_qVukO0HvihP"
      },
      "outputs": [],
      "source": [
        "bm4 = gcv4.best_estimator_\n",
        "y_pred4 = bm4.predict(X_test)\n",
        "df4 = pd.DataFrame({\n",
        "    'Id': X_test.index,\n",
        "    'quality': y_pred4\n",
        "})\n",
        "df4.to_csv('submission4.csv', index=False)"
      ]
    },
    {
      "cell_type": "markdown",
      "source": [
        "Leaderboard Score:-\n",
        "\n",
        "1. Linear SVM with Standard Scaler - 0.43906\n",
        "2. Linear SVM with MinMax Scaler - 0.43653\n",
        "3. RBF SVM with Standard Scaler - 0.50007\n",
        "4. RBF SVM with MinMax Scaler - 0.47177"
      ],
      "metadata": {
        "id": "LtX8ED5Jkacw"
      }
    }
  ],
  "metadata": {
    "colab": {
      "provenance": []
    },
    "kernelspec": {
      "display_name": "Python 3",
      "name": "python3"
    },
    "language_info": {
      "name": "python"
    }
  },
  "nbformat": 4,
  "nbformat_minor": 0
}
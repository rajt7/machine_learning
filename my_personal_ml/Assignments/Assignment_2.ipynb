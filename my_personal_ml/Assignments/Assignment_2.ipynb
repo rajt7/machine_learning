{
  "cells": [
    {
      "cell_type": "code",
      "execution_count": 1,
      "metadata": {
        "id": "CtA9ARyq04gO"
      },
      "outputs": [],
      "source": [
        "import pandas as pd\n",
        "import numpy as np\n",
        "from sklearn.model_selection import train_test_split, GridSearchCV, KFold\n",
        "from sklearn.preprocessing import StandardScaler, LabelEncoder, MinMaxScaler\n",
        "from sklearn.pipeline import Pipeline\n",
        "from sklearn.svm import SVC\n",
        "from sklearn.metrics import accuracy_score"
      ]
    },
    {
      "cell_type": "code",
      "execution_count": 3,
      "metadata": {
        "colab": {
          "base_uri": "https://localhost:8080/",
          "height": 226
        },
        "id": "mgKKabES04gR",
        "outputId": "82d2796d-4df7-4ede-cecb-43c8fba5cb3f"
      },
      "outputs": [
        {
          "data": {
            "text/html": [
              "\n",
              "  <div id=\"df-1fd48534-0473-4f1d-9fb7-2096a93507f6\" class=\"colab-df-container\">\n",
              "    <div>\n",
              "<style scoped>\n",
              "    .dataframe tbody tr th:only-of-type {\n",
              "        vertical-align: middle;\n",
              "    }\n",
              "\n",
              "    .dataframe tbody tr th {\n",
              "        vertical-align: top;\n",
              "    }\n",
              "\n",
              "    .dataframe thead th {\n",
              "        text-align: right;\n",
              "    }\n",
              "</style>\n",
              "<table border=\"1\" class=\"dataframe\">\n",
              "  <thead>\n",
              "    <tr style=\"text-align: right;\">\n",
              "      <th></th>\n",
              "      <th>Comp</th>\n",
              "      <th>Circ</th>\n",
              "      <th>D.Circ</th>\n",
              "      <th>Rad.Ra</th>\n",
              "      <th>Pr.Axis.Ra</th>\n",
              "      <th>Max.L.Ra</th>\n",
              "      <th>Scat.Ra</th>\n",
              "      <th>Elong</th>\n",
              "      <th>Pr.Axis.Rect</th>\n",
              "      <th>Max.L.Rect</th>\n",
              "      <th>Sc.Var.Maxis</th>\n",
              "      <th>Sc.Var.maxis</th>\n",
              "      <th>Ra.Gyr</th>\n",
              "      <th>Skew.Maxis</th>\n",
              "      <th>Skew.maxis</th>\n",
              "      <th>Kurt.maxis</th>\n",
              "      <th>Kurt.Maxis</th>\n",
              "      <th>Holl.Ra</th>\n",
              "      <th>Class</th>\n",
              "    </tr>\n",
              "  </thead>\n",
              "  <tbody>\n",
              "    <tr>\n",
              "      <th>0</th>\n",
              "      <td>95</td>\n",
              "      <td>48</td>\n",
              "      <td>83</td>\n",
              "      <td>178</td>\n",
              "      <td>72</td>\n",
              "      <td>10</td>\n",
              "      <td>162</td>\n",
              "      <td>42</td>\n",
              "      <td>20</td>\n",
              "      <td>159</td>\n",
              "      <td>176</td>\n",
              "      <td>379</td>\n",
              "      <td>184</td>\n",
              "      <td>70</td>\n",
              "      <td>6</td>\n",
              "      <td>16</td>\n",
              "      <td>187</td>\n",
              "      <td>197</td>\n",
              "      <td>van</td>\n",
              "    </tr>\n",
              "    <tr>\n",
              "      <th>1</th>\n",
              "      <td>91</td>\n",
              "      <td>41</td>\n",
              "      <td>84</td>\n",
              "      <td>141</td>\n",
              "      <td>57</td>\n",
              "      <td>9</td>\n",
              "      <td>149</td>\n",
              "      <td>45</td>\n",
              "      <td>19</td>\n",
              "      <td>143</td>\n",
              "      <td>170</td>\n",
              "      <td>330</td>\n",
              "      <td>158</td>\n",
              "      <td>72</td>\n",
              "      <td>9</td>\n",
              "      <td>14</td>\n",
              "      <td>189</td>\n",
              "      <td>199</td>\n",
              "      <td>van</td>\n",
              "    </tr>\n",
              "    <tr>\n",
              "      <th>2</th>\n",
              "      <td>104</td>\n",
              "      <td>50</td>\n",
              "      <td>106</td>\n",
              "      <td>209</td>\n",
              "      <td>66</td>\n",
              "      <td>10</td>\n",
              "      <td>207</td>\n",
              "      <td>32</td>\n",
              "      <td>23</td>\n",
              "      <td>158</td>\n",
              "      <td>223</td>\n",
              "      <td>635</td>\n",
              "      <td>220</td>\n",
              "      <td>73</td>\n",
              "      <td>14</td>\n",
              "      <td>9</td>\n",
              "      <td>188</td>\n",
              "      <td>196</td>\n",
              "      <td>saab</td>\n",
              "    </tr>\n",
              "    <tr>\n",
              "      <th>3</th>\n",
              "      <td>93</td>\n",
              "      <td>41</td>\n",
              "      <td>82</td>\n",
              "      <td>159</td>\n",
              "      <td>63</td>\n",
              "      <td>9</td>\n",
              "      <td>144</td>\n",
              "      <td>46</td>\n",
              "      <td>19</td>\n",
              "      <td>143</td>\n",
              "      <td>160</td>\n",
              "      <td>309</td>\n",
              "      <td>127</td>\n",
              "      <td>63</td>\n",
              "      <td>6</td>\n",
              "      <td>10</td>\n",
              "      <td>199</td>\n",
              "      <td>207</td>\n",
              "      <td>van</td>\n",
              "    </tr>\n",
              "    <tr>\n",
              "      <th>4</th>\n",
              "      <td>85</td>\n",
              "      <td>44</td>\n",
              "      <td>70</td>\n",
              "      <td>205</td>\n",
              "      <td>103</td>\n",
              "      <td>52</td>\n",
              "      <td>149</td>\n",
              "      <td>45</td>\n",
              "      <td>19</td>\n",
              "      <td>144</td>\n",
              "      <td>241</td>\n",
              "      <td>325</td>\n",
              "      <td>188</td>\n",
              "      <td>127</td>\n",
              "      <td>9</td>\n",
              "      <td>11</td>\n",
              "      <td>180</td>\n",
              "      <td>183</td>\n",
              "      <td>bus</td>\n",
              "    </tr>\n",
              "  </tbody>\n",
              "</table>\n",
              "</div>\n",
              "    <div class=\"colab-df-buttons\">\n",
              "\n",
              "  <div class=\"colab-df-container\">\n",
              "    <button class=\"colab-df-convert\" onclick=\"convertToInteractive('df-1fd48534-0473-4f1d-9fb7-2096a93507f6')\"\n",
              "            title=\"Convert this dataframe to an interactive table.\"\n",
              "            style=\"display:none;\">\n",
              "\n",
              "  <svg xmlns=\"http://www.w3.org/2000/svg\" height=\"24px\" viewBox=\"0 -960 960 960\">\n",
              "    <path d=\"M120-120v-720h720v720H120Zm60-500h600v-160H180v160Zm220 220h160v-160H400v160Zm0 220h160v-160H400v160ZM180-400h160v-160H180v160Zm440 0h160v-160H620v160ZM180-180h160v-160H180v160Zm440 0h160v-160H620v160Z\"/>\n",
              "  </svg>\n",
              "    </button>\n",
              "\n",
              "  <style>\n",
              "    .colab-df-container {\n",
              "      display:flex;\n",
              "      gap: 12px;\n",
              "    }\n",
              "\n",
              "    .colab-df-convert {\n",
              "      background-color: #E8F0FE;\n",
              "      border: none;\n",
              "      border-radius: 50%;\n",
              "      cursor: pointer;\n",
              "      display: none;\n",
              "      fill: #1967D2;\n",
              "      height: 32px;\n",
              "      padding: 0 0 0 0;\n",
              "      width: 32px;\n",
              "    }\n",
              "\n",
              "    .colab-df-convert:hover {\n",
              "      background-color: #E2EBFA;\n",
              "      box-shadow: 0px 1px 2px rgba(60, 64, 67, 0.3), 0px 1px 3px 1px rgba(60, 64, 67, 0.15);\n",
              "      fill: #174EA6;\n",
              "    }\n",
              "\n",
              "    .colab-df-buttons div {\n",
              "      margin-bottom: 4px;\n",
              "    }\n",
              "\n",
              "    [theme=dark] .colab-df-convert {\n",
              "      background-color: #3B4455;\n",
              "      fill: #D2E3FC;\n",
              "    }\n",
              "\n",
              "    [theme=dark] .colab-df-convert:hover {\n",
              "      background-color: #434B5C;\n",
              "      box-shadow: 0px 1px 3px 1px rgba(0, 0, 0, 0.15);\n",
              "      filter: drop-shadow(0px 1px 2px rgba(0, 0, 0, 0.3));\n",
              "      fill: #FFFFFF;\n",
              "    }\n",
              "  </style>\n",
              "\n",
              "    <script>\n",
              "      const buttonEl =\n",
              "        document.querySelector('#df-1fd48534-0473-4f1d-9fb7-2096a93507f6 button.colab-df-convert');\n",
              "      buttonEl.style.display =\n",
              "        google.colab.kernel.accessAllowed ? 'block' : 'none';\n",
              "\n",
              "      async function convertToInteractive(key) {\n",
              "        const element = document.querySelector('#df-1fd48534-0473-4f1d-9fb7-2096a93507f6');\n",
              "        const dataTable =\n",
              "          await google.colab.kernel.invokeFunction('convertToInteractive',\n",
              "                                                    [key], {});\n",
              "        if (!dataTable) return;\n",
              "\n",
              "        const docLinkHtml = 'Like what you see? Visit the ' +\n",
              "          '<a target=\"_blank\" href=https://colab.research.google.com/notebooks/data_table.ipynb>data table notebook</a>'\n",
              "          + ' to learn more about interactive tables.';\n",
              "        element.innerHTML = '';\n",
              "        dataTable['output_type'] = 'display_data';\n",
              "        await google.colab.output.renderOutput(dataTable, element);\n",
              "        const docLink = document.createElement('div');\n",
              "        docLink.innerHTML = docLinkHtml;\n",
              "        element.appendChild(docLink);\n",
              "      }\n",
              "    </script>\n",
              "  </div>\n",
              "\n",
              "\n",
              "<div id=\"df-618e93f6-5426-43b2-94e1-fafa533b64fc\">\n",
              "  <button class=\"colab-df-quickchart\" onclick=\"quickchart('df-618e93f6-5426-43b2-94e1-fafa533b64fc')\"\n",
              "            title=\"Suggest charts\"\n",
              "            style=\"display:none;\">\n",
              "\n",
              "<svg xmlns=\"http://www.w3.org/2000/svg\" height=\"24px\"viewBox=\"0 0 24 24\"\n",
              "     width=\"24px\">\n",
              "    <g>\n",
              "        <path d=\"M19 3H5c-1.1 0-2 .9-2 2v14c0 1.1.9 2 2 2h14c1.1 0 2-.9 2-2V5c0-1.1-.9-2-2-2zM9 17H7v-7h2v7zm4 0h-2V7h2v10zm4 0h-2v-4h2v4z\"/>\n",
              "    </g>\n",
              "</svg>\n",
              "  </button>\n",
              "\n",
              "<style>\n",
              "  .colab-df-quickchart {\n",
              "      --bg-color: #E8F0FE;\n",
              "      --fill-color: #1967D2;\n",
              "      --hover-bg-color: #E2EBFA;\n",
              "      --hover-fill-color: #174EA6;\n",
              "      --disabled-fill-color: #AAA;\n",
              "      --disabled-bg-color: #DDD;\n",
              "  }\n",
              "\n",
              "  [theme=dark] .colab-df-quickchart {\n",
              "      --bg-color: #3B4455;\n",
              "      --fill-color: #D2E3FC;\n",
              "      --hover-bg-color: #434B5C;\n",
              "      --hover-fill-color: #FFFFFF;\n",
              "      --disabled-bg-color: #3B4455;\n",
              "      --disabled-fill-color: #666;\n",
              "  }\n",
              "\n",
              "  .colab-df-quickchart {\n",
              "    background-color: var(--bg-color);\n",
              "    border: none;\n",
              "    border-radius: 50%;\n",
              "    cursor: pointer;\n",
              "    display: none;\n",
              "    fill: var(--fill-color);\n",
              "    height: 32px;\n",
              "    padding: 0;\n",
              "    width: 32px;\n",
              "  }\n",
              "\n",
              "  .colab-df-quickchart:hover {\n",
              "    background-color: var(--hover-bg-color);\n",
              "    box-shadow: 0 1px 2px rgba(60, 64, 67, 0.3), 0 1px 3px 1px rgba(60, 64, 67, 0.15);\n",
              "    fill: var(--button-hover-fill-color);\n",
              "  }\n",
              "\n",
              "  .colab-df-quickchart-complete:disabled,\n",
              "  .colab-df-quickchart-complete:disabled:hover {\n",
              "    background-color: var(--disabled-bg-color);\n",
              "    fill: var(--disabled-fill-color);\n",
              "    box-shadow: none;\n",
              "  }\n",
              "\n",
              "  .colab-df-spinner {\n",
              "    border: 2px solid var(--fill-color);\n",
              "    border-color: transparent;\n",
              "    border-bottom-color: var(--fill-color);\n",
              "    animation:\n",
              "      spin 1s steps(1) infinite;\n",
              "  }\n",
              "\n",
              "  @keyframes spin {\n",
              "    0% {\n",
              "      border-color: transparent;\n",
              "      border-bottom-color: var(--fill-color);\n",
              "      border-left-color: var(--fill-color);\n",
              "    }\n",
              "    20% {\n",
              "      border-color: transparent;\n",
              "      border-left-color: var(--fill-color);\n",
              "      border-top-color: var(--fill-color);\n",
              "    }\n",
              "    30% {\n",
              "      border-color: transparent;\n",
              "      border-left-color: var(--fill-color);\n",
              "      border-top-color: var(--fill-color);\n",
              "      border-right-color: var(--fill-color);\n",
              "    }\n",
              "    40% {\n",
              "      border-color: transparent;\n",
              "      border-right-color: var(--fill-color);\n",
              "      border-top-color: var(--fill-color);\n",
              "    }\n",
              "    60% {\n",
              "      border-color: transparent;\n",
              "      border-right-color: var(--fill-color);\n",
              "    }\n",
              "    80% {\n",
              "      border-color: transparent;\n",
              "      border-right-color: var(--fill-color);\n",
              "      border-bottom-color: var(--fill-color);\n",
              "    }\n",
              "    90% {\n",
              "      border-color: transparent;\n",
              "      border-bottom-color: var(--fill-color);\n",
              "    }\n",
              "  }\n",
              "</style>\n",
              "\n",
              "  <script>\n",
              "    async function quickchart(key) {\n",
              "      const quickchartButtonEl =\n",
              "        document.querySelector('#' + key + ' button');\n",
              "      quickchartButtonEl.disabled = true;  // To prevent multiple clicks.\n",
              "      quickchartButtonEl.classList.add('colab-df-spinner');\n",
              "      try {\n",
              "        const charts = await google.colab.kernel.invokeFunction(\n",
              "            'suggestCharts', [key], {});\n",
              "      } catch (error) {\n",
              "        console.error('Error during call to suggestCharts:', error);\n",
              "      }\n",
              "      quickchartButtonEl.classList.remove('colab-df-spinner');\n",
              "      quickchartButtonEl.classList.add('colab-df-quickchart-complete');\n",
              "    }\n",
              "    (() => {\n",
              "      let quickchartButtonEl =\n",
              "        document.querySelector('#df-618e93f6-5426-43b2-94e1-fafa533b64fc button');\n",
              "      quickchartButtonEl.style.display =\n",
              "        google.colab.kernel.accessAllowed ? 'block' : 'none';\n",
              "    })();\n",
              "  </script>\n",
              "</div>\n",
              "    </div>\n",
              "  </div>\n"
            ],
            "text/plain": [
              "   Comp  Circ  D.Circ  Rad.Ra  Pr.Axis.Ra  Max.L.Ra  Scat.Ra  Elong  \\\n",
              "0    95    48      83     178          72        10      162     42   \n",
              "1    91    41      84     141          57         9      149     45   \n",
              "2   104    50     106     209          66        10      207     32   \n",
              "3    93    41      82     159          63         9      144     46   \n",
              "4    85    44      70     205         103        52      149     45   \n",
              "\n",
              "   Pr.Axis.Rect  Max.L.Rect  Sc.Var.Maxis  Sc.Var.maxis  Ra.Gyr  Skew.Maxis  \\\n",
              "0            20         159           176           379     184          70   \n",
              "1            19         143           170           330     158          72   \n",
              "2            23         158           223           635     220          73   \n",
              "3            19         143           160           309     127          63   \n",
              "4            19         144           241           325     188         127   \n",
              "\n",
              "   Skew.maxis  Kurt.maxis  Kurt.Maxis  Holl.Ra Class  \n",
              "0           6          16         187      197   van  \n",
              "1           9          14         189      199   van  \n",
              "2          14           9         188      196  saab  \n",
              "3           6          10         199      207   van  \n",
              "4           9          11         180      183   bus  "
            ]
          },
          "execution_count": 3,
          "metadata": {},
          "output_type": "execute_result"
        }
      ],
      "source": [
        "df = pd.read_csv('./Vehicle.csv')\n",
        "df.head()"
      ]
    },
    {
      "cell_type": "code",
      "execution_count": 4,
      "metadata": {
        "colab": {
          "base_uri": "https://localhost:8080/"
        },
        "id": "xoDatjlU04gS",
        "outputId": "8fe2c684-9451-4f61-f9ee-f40f32717f00"
      },
      "outputs": [
        {
          "data": {
            "text/plain": [
              "Comp            0\n",
              "Circ            0\n",
              "D.Circ          0\n",
              "Rad.Ra          0\n",
              "Pr.Axis.Ra      0\n",
              "Max.L.Ra        0\n",
              "Scat.Ra         0\n",
              "Elong           0\n",
              "Pr.Axis.Rect    0\n",
              "Max.L.Rect      0\n",
              "Sc.Var.Maxis    0\n",
              "Sc.Var.maxis    0\n",
              "Ra.Gyr          0\n",
              "Skew.Maxis      0\n",
              "Skew.maxis      0\n",
              "Kurt.maxis      0\n",
              "Kurt.Maxis      0\n",
              "Holl.Ra         0\n",
              "Class           0\n",
              "dtype: int64"
            ]
          },
          "execution_count": 4,
          "metadata": {},
          "output_type": "execute_result"
        }
      ],
      "source": [
        "df.isnull().sum()"
      ]
    },
    {
      "cell_type": "markdown",
      "metadata": {
        "id": "VyyS17U204gT"
      },
      "source": [
        "**No missing data**"
      ]
    },
    {
      "cell_type": "code",
      "execution_count": 5,
      "metadata": {
        "colab": {
          "base_uri": "https://localhost:8080/"
        },
        "id": "XcjAEbbR04gV",
        "outputId": "cf8e9906-9fa9-4eef-88c7-f4132fd7970c"
      },
      "outputs": [
        {
          "data": {
            "text/plain": [
              "array(['van', 'saab', 'bus', 'opel'], dtype=object)"
            ]
          },
          "execution_count": 5,
          "metadata": {},
          "output_type": "execute_result"
        }
      ],
      "source": [
        "df['Class'].unique()"
      ]
    },
    {
      "cell_type": "code",
      "execution_count": 6,
      "metadata": {
        "id": "BJRZE2nW04gX"
      },
      "outputs": [],
      "source": [
        "X = df.drop('Class', axis=1)\n",
        "y = df['Class']\n",
        "le = LabelEncoder()\n",
        "y = le.fit_transform(y)\n",
        "X_train, X_test, y_train, y_test = train_test_split(X,y, test_size=0.30, random_state=42,\n",
        "                                                    stratify=y)"
      ]
    },
    {
      "cell_type": "code",
      "execution_count": 7,
      "metadata": {
        "id": "gKTzgo3J04gX"
      },
      "outputs": [],
      "source": [
        "pipeline1 = Pipeline([\n",
        "    ('clf', SVC(probability=True, random_state=42))\n",
        "])\n",
        "Kfold = KFold(n_splits=5, shuffle=True, random_state=42)"
      ]
    },
    {
      "cell_type": "markdown",
      "metadata": {
        "id": "UbKkXlRW04gX"
      },
      "source": [
        "### SVM w/o scaling Linear"
      ]
    },
    {
      "cell_type": "code",
      "execution_count": 8,
      "metadata": {
        "colab": {
          "base_uri": "https://localhost:8080/"
        },
        "id": "hvlLCQ8R04gY",
        "outputId": "e0c91c88-14af-4064-978d-879cdb6518b3"
      },
      "outputs": [
        {
          "name": "stdout",
          "output_type": "stream",
          "text": [
            "Best parameters for SVM without scaling in linear on Y: {'clf__C': 0.5564444444444444, 'clf__decision_function_shape': 'ovo', 'clf__kernel': 'linear'}\n",
            "Best score for SVM without scaling in linear on Y: -0.44452531468291845\n"
          ]
        }
      ],
      "source": [
        "params_1 = {\n",
        "    'clf__C': np.linspace(0.001, 5, 10),\n",
        "    'clf__kernel': ['linear'],\n",
        "    'clf__decision_function_shape': ['ovo', 'ovr']\n",
        "}\n",
        "gcv1 = GridSearchCV(pipeline1, params_1, cv=Kfold, scoring='neg_log_loss')\n",
        "gcv1.fit(X, y)\n",
        "\n",
        "print(f\"Best parameters for SVM without scaling in linear on Y: {gcv1.best_params_}\")\n",
        "print(f\"Best score for SVM without scaling in linear on Y: {gcv1.best_score_}\")"
      ]
    },
    {
      "cell_type": "code",
      "execution_count": 9,
      "metadata": {
        "colab": {
          "base_uri": "https://localhost:8080/"
        },
        "id": "MtKmeLpT04gY",
        "outputId": "52dfa83e-23a0-49b7-d67a-bc4e76d3c6c3"
      },
      "outputs": [
        {
          "data": {
            "text/plain": [
              "0.8818897637795275"
            ]
          },
          "execution_count": 9,
          "metadata": {},
          "output_type": "execute_result"
        }
      ],
      "source": [
        "bm1 = gcv1.best_estimator_\n",
        "y_pred1 = bm1.predict(X_test)\n",
        "accuracy_score(y_test, y_pred1)"
      ]
    },
    {
      "cell_type": "markdown",
      "metadata": {
        "id": "kpvktMB004gZ"
      },
      "source": [
        "### SVM w/o scaling RBF"
      ]
    },
    {
      "cell_type": "code",
      "execution_count": 10,
      "metadata": {
        "colab": {
          "base_uri": "https://localhost:8080/",
          "height": 116
        },
        "id": "5PHoEPIa04gZ",
        "outputId": "54649325-21a0-436b-c076-9e5015123b3c"
      },
      "outputs": [
        {
          "data": {
            "text/html": [
              "<style>#sk-container-id-1 {color: black;background-color: white;}#sk-container-id-1 pre{padding: 0;}#sk-container-id-1 div.sk-toggleable {background-color: white;}#sk-container-id-1 label.sk-toggleable__label {cursor: pointer;display: block;width: 100%;margin-bottom: 0;padding: 0.3em;box-sizing: border-box;text-align: center;}#sk-container-id-1 label.sk-toggleable__label-arrow:before {content: \"▸\";float: left;margin-right: 0.25em;color: #696969;}#sk-container-id-1 label.sk-toggleable__label-arrow:hover:before {color: black;}#sk-container-id-1 div.sk-estimator:hover label.sk-toggleable__label-arrow:before {color: black;}#sk-container-id-1 div.sk-toggleable__content {max-height: 0;max-width: 0;overflow: hidden;text-align: left;background-color: #f0f8ff;}#sk-container-id-1 div.sk-toggleable__content pre {margin: 0.2em;color: black;border-radius: 0.25em;background-color: #f0f8ff;}#sk-container-id-1 input.sk-toggleable__control:checked~div.sk-toggleable__content {max-height: 200px;max-width: 100%;overflow: auto;}#sk-container-id-1 input.sk-toggleable__control:checked~label.sk-toggleable__label-arrow:before {content: \"▾\";}#sk-container-id-1 div.sk-estimator input.sk-toggleable__control:checked~label.sk-toggleable__label {background-color: #d4ebff;}#sk-container-id-1 div.sk-label input.sk-toggleable__control:checked~label.sk-toggleable__label {background-color: #d4ebff;}#sk-container-id-1 input.sk-hidden--visually {border: 0;clip: rect(1px 1px 1px 1px);clip: rect(1px, 1px, 1px, 1px);height: 1px;margin: -1px;overflow: hidden;padding: 0;position: absolute;width: 1px;}#sk-container-id-1 div.sk-estimator {font-family: monospace;background-color: #f0f8ff;border: 1px dotted black;border-radius: 0.25em;box-sizing: border-box;margin-bottom: 0.5em;}#sk-container-id-1 div.sk-estimator:hover {background-color: #d4ebff;}#sk-container-id-1 div.sk-parallel-item::after {content: \"\";width: 100%;border-bottom: 1px solid gray;flex-grow: 1;}#sk-container-id-1 div.sk-label:hover label.sk-toggleable__label {background-color: #d4ebff;}#sk-container-id-1 div.sk-serial::before {content: \"\";position: absolute;border-left: 1px solid gray;box-sizing: border-box;top: 0;bottom: 0;left: 50%;z-index: 0;}#sk-container-id-1 div.sk-serial {display: flex;flex-direction: column;align-items: center;background-color: white;padding-right: 0.2em;padding-left: 0.2em;position: relative;}#sk-container-id-1 div.sk-item {position: relative;z-index: 1;}#sk-container-id-1 div.sk-parallel {display: flex;align-items: stretch;justify-content: center;background-color: white;position: relative;}#sk-container-id-1 div.sk-item::before, #sk-container-id-1 div.sk-parallel-item::before {content: \"\";position: absolute;border-left: 1px solid gray;box-sizing: border-box;top: 0;bottom: 0;left: 50%;z-index: -1;}#sk-container-id-1 div.sk-parallel-item {display: flex;flex-direction: column;z-index: 1;position: relative;background-color: white;}#sk-container-id-1 div.sk-parallel-item:first-child::after {align-self: flex-end;width: 50%;}#sk-container-id-1 div.sk-parallel-item:last-child::after {align-self: flex-start;width: 50%;}#sk-container-id-1 div.sk-parallel-item:only-child::after {width: 0;}#sk-container-id-1 div.sk-dashed-wrapped {border: 1px dashed gray;margin: 0 0.4em 0.5em 0.4em;box-sizing: border-box;padding-bottom: 0.4em;background-color: white;}#sk-container-id-1 div.sk-label label {font-family: monospace;font-weight: bold;display: inline-block;line-height: 1.2em;}#sk-container-id-1 div.sk-label-container {text-align: center;}#sk-container-id-1 div.sk-container {/* jupyter's `normalize.less` sets `[hidden] { display: none; }` but bootstrap.min.css set `[hidden] { display: none !important; }` so we also need the `!important` here to be able to override the default hidden behavior on the sphinx rendered scikit-learn.org. See: https://github.com/scikit-learn/scikit-learn/issues/21755 */display: inline-block !important;position: relative;}#sk-container-id-1 div.sk-text-repr-fallback {display: none;}</style><div id=\"sk-container-id-1\" class=\"sk-top-container\"><div class=\"sk-text-repr-fallback\"><pre>GridSearchCV(cv=KFold(n_splits=5, random_state=42, shuffle=True),\n",
              "             estimator=Pipeline(steps=[(&#x27;clf&#x27;,\n",
              "                                        SVC(probability=True,\n",
              "                                            random_state=42))]),\n",
              "             param_grid={&#x27;clf__C&#x27;: array([1.00000000e-03, 5.56444444e-01, 1.11188889e+00, 1.66733333e+00,\n",
              "       2.22277778e+00, 2.77822222e+00, 3.33366667e+00, 3.88911111e+00,\n",
              "       4.44455556e+00, 5.00000000e+00]),\n",
              "                         &#x27;clf__decision_function_shape&#x27;: [&#x27;ovo&#x27;, &#x27;ovr&#x27;],\n",
              "                         &#x27;clf__gamma&#x27;: [0.001, 0.5564444444444444,\n",
              "                                        1.1118888888888887, 1.6673333333333331,\n",
              "                                        2.2227777777777775, 2.778222222222222,\n",
              "                                        3.3336666666666663, 3.8891111111111107,\n",
              "                                        4.444555555555556, 5.0, &#x27;scale&#x27;,\n",
              "                                        &#x27;auto&#x27;]},\n",
              "             scoring=&#x27;neg_log_loss&#x27;)</pre><b>In a Jupyter environment, please rerun this cell to show the HTML representation or trust the notebook. <br />On GitHub, the HTML representation is unable to render, please try loading this page with nbviewer.org.</b></div><div class=\"sk-container\" hidden><div class=\"sk-item sk-dashed-wrapped\"><div class=\"sk-label-container\"><div class=\"sk-label sk-toggleable\"><input class=\"sk-toggleable__control sk-hidden--visually\" id=\"sk-estimator-id-1\" type=\"checkbox\" ><label for=\"sk-estimator-id-1\" class=\"sk-toggleable__label sk-toggleable__label-arrow\">GridSearchCV</label><div class=\"sk-toggleable__content\"><pre>GridSearchCV(cv=KFold(n_splits=5, random_state=42, shuffle=True),\n",
              "             estimator=Pipeline(steps=[(&#x27;clf&#x27;,\n",
              "                                        SVC(probability=True,\n",
              "                                            random_state=42))]),\n",
              "             param_grid={&#x27;clf__C&#x27;: array([1.00000000e-03, 5.56444444e-01, 1.11188889e+00, 1.66733333e+00,\n",
              "       2.22277778e+00, 2.77822222e+00, 3.33366667e+00, 3.88911111e+00,\n",
              "       4.44455556e+00, 5.00000000e+00]),\n",
              "                         &#x27;clf__decision_function_shape&#x27;: [&#x27;ovo&#x27;, &#x27;ovr&#x27;],\n",
              "                         &#x27;clf__gamma&#x27;: [0.001, 0.5564444444444444,\n",
              "                                        1.1118888888888887, 1.6673333333333331,\n",
              "                                        2.2227777777777775, 2.778222222222222,\n",
              "                                        3.3336666666666663, 3.8891111111111107,\n",
              "                                        4.444555555555556, 5.0, &#x27;scale&#x27;,\n",
              "                                        &#x27;auto&#x27;]},\n",
              "             scoring=&#x27;neg_log_loss&#x27;)</pre></div></div></div><div class=\"sk-parallel\"><div class=\"sk-parallel-item\"><div class=\"sk-item\"><div class=\"sk-label-container\"><div class=\"sk-label sk-toggleable\"><input class=\"sk-toggleable__control sk-hidden--visually\" id=\"sk-estimator-id-2\" type=\"checkbox\" ><label for=\"sk-estimator-id-2\" class=\"sk-toggleable__label sk-toggleable__label-arrow\">estimator: Pipeline</label><div class=\"sk-toggleable__content\"><pre>Pipeline(steps=[(&#x27;clf&#x27;, SVC(probability=True, random_state=42))])</pre></div></div></div><div class=\"sk-serial\"><div class=\"sk-item\"><div class=\"sk-serial\"><div class=\"sk-item\"><div class=\"sk-estimator sk-toggleable\"><input class=\"sk-toggleable__control sk-hidden--visually\" id=\"sk-estimator-id-3\" type=\"checkbox\" ><label for=\"sk-estimator-id-3\" class=\"sk-toggleable__label sk-toggleable__label-arrow\">SVC</label><div class=\"sk-toggleable__content\"><pre>SVC(probability=True, random_state=42)</pre></div></div></div></div></div></div></div></div></div></div></div></div>"
            ],
            "text/plain": [
              "GridSearchCV(cv=KFold(n_splits=5, random_state=42, shuffle=True),\n",
              "             estimator=Pipeline(steps=[('clf',\n",
              "                                        SVC(probability=True,\n",
              "                                            random_state=42))]),\n",
              "             param_grid={'clf__C': array([1.00000000e-03, 5.56444444e-01, 1.11188889e+00, 1.66733333e+00,\n",
              "       2.22277778e+00, 2.77822222e+00, 3.33366667e+00, 3.88911111e+00,\n",
              "       4.44455556e+00, 5.00000000e+00]),\n",
              "                         'clf__decision_function_shape': ['ovo', 'ovr'],\n",
              "                         'clf__gamma': [0.001, 0.5564444444444444,\n",
              "                                        1.1118888888888887, 1.6673333333333331,\n",
              "                                        2.2227777777777775, 2.778222222222222,\n",
              "                                        3.3336666666666663, 3.8891111111111107,\n",
              "                                        4.444555555555556, 5.0, 'scale',\n",
              "                                        'auto']},\n",
              "             scoring='neg_log_loss')"
            ]
          },
          "execution_count": 10,
          "metadata": {},
          "output_type": "execute_result"
        }
      ],
      "source": [
        "params2 = {\n",
        "    'clf__C': np.linspace(0.001, 5, 10),\n",
        "    'clf__gamma': list(np.linspace(0.001, 5, 10)) + ['scale', 'auto'],\n",
        "    'clf__decision_function_shape': ['ovo', 'ovr']\n",
        "}\n",
        "gcv2 = GridSearchCV(pipeline1, param_grid=params2, cv=Kfold, scoring='neg_log_loss')\n",
        "gcv2.fit(X, y)"
      ]
    },
    {
      "cell_type": "code",
      "execution_count": 11,
      "metadata": {
        "colab": {
          "base_uri": "https://localhost:8080/"
        },
        "id": "3xnV7Jqk04ga",
        "outputId": "99a60d80-7b31-462a-959b-46fca8a9eac1"
      },
      "outputs": [
        {
          "name": "stdout",
          "output_type": "stream",
          "text": [
            "Best parameters for SVM without scaling in RBF on Y: {'clf__C': 5.0, 'clf__decision_function_shape': 'ovo', 'clf__gamma': 0.001}\n",
            "Best score for SVM without scaling in RBF on Y: -0.537176737376624\n"
          ]
        }
      ],
      "source": [
        "print(f\"Best parameters for SVM without scaling in RBF on Y: {gcv2.best_params_}\")\n",
        "print(f\"Best score for SVM without scaling in RBF on Y: {gcv2.best_score_}\")"
      ]
    },
    {
      "cell_type": "code",
      "execution_count": 12,
      "metadata": {
        "colab": {
          "base_uri": "https://localhost:8080/"
        },
        "id": "iu_1myhY04gb",
        "outputId": "54896ec8-faca-4cbc-fdfb-c6d4397acf70"
      },
      "outputs": [
        {
          "data": {
            "text/plain": [
              "0.984251968503937"
            ]
          },
          "execution_count": 12,
          "metadata": {},
          "output_type": "execute_result"
        }
      ],
      "source": [
        "bm2 = gcv2.best_estimator_\n",
        "y_pred2 = bm2.predict(X_test)\n",
        "accuracy_score(y_test, y_pred2)"
      ]
    },
    {
      "cell_type": "markdown",
      "metadata": {
        "id": "DeVdUB_O04gb"
      },
      "source": [
        "### SVM with scaling Linear"
      ]
    },
    {
      "cell_type": "code",
      "execution_count": 13,
      "metadata": {
        "id": "jGl_yv6204gb"
      },
      "outputs": [],
      "source": [
        "pipeline2 = Pipeline([\n",
        "    ('scaler', StandardScaler()),\n",
        "    ('clf', SVC(probability=True, random_state=42))\n",
        "])"
      ]
    },
    {
      "cell_type": "code",
      "execution_count": 14,
      "metadata": {
        "colab": {
          "base_uri": "https://localhost:8080/"
        },
        "id": "FyEAz0u604gc",
        "outputId": "b4da6499-69d5-4d6f-f55b-ad6be73bb6cc"
      },
      "outputs": [
        {
          "name": "stdout",
          "output_type": "stream",
          "text": [
            "Best parameters for SVM without scaling in RBF on Y: {'clf__C': 3.8891111111111107, 'clf__decision_function_shape': 'ovo', 'clf__gamma': 0.001, 'clf__kernel': 'linear', 'scaler': StandardScaler()}\n",
            "Best score for SVM without scaling in RBF on Y: -0.4193231742289689\n"
          ]
        }
      ],
      "source": [
        "params3 = {\n",
        "    'scaler': [StandardScaler(), MinMaxScaler()],\n",
        "    'clf__C': np.linspace(0.001, 5, 10),\n",
        "    'clf__kernel': ['linear'],\n",
        "    'clf__gamma': list(np.linspace(0.001, 5, 10)) + ['scale', 'auto'],\n",
        "    'clf__decision_function_shape': ['ovo', 'ovr']\n",
        "}\n",
        "gcv3 = GridSearchCV(pipeline2, param_grid=params3, cv=Kfold, scoring='neg_log_loss')\n",
        "gcv3.fit(X, y)\n",
        "\n",
        "print(f\"Best parameters for SVM without scaling in RBF on Y: {gcv3.best_params_}\")\n",
        "print(f\"Best score for SVM without scaling in RBF on Y: {gcv3.best_score_}\")"
      ]
    },
    {
      "cell_type": "code",
      "execution_count": 15,
      "metadata": {
        "colab": {
          "base_uri": "https://localhost:8080/"
        },
        "id": "dRVWZ2ip04gc",
        "outputId": "429c57a3-a263-4cb2-e924-dfa34cb33847"
      },
      "outputs": [
        {
          "data": {
            "text/plain": [
              "0.8661417322834646"
            ]
          },
          "execution_count": 15,
          "metadata": {},
          "output_type": "execute_result"
        }
      ],
      "source": [
        "bm3 = gcv3.best_estimator_\n",
        "y_pred3 = bm3.predict(X_test)\n",
        "accuracy_score(y_test, y_pred3)"
      ]
    },
    {
      "cell_type": "markdown",
      "metadata": {
        "id": "irBA8Kpa04gc"
      },
      "source": [
        "### SVM with scaling RBF"
      ]
    },
    {
      "cell_type": "code",
      "execution_count": 16,
      "metadata": {
        "colab": {
          "base_uri": "https://localhost:8080/"
        },
        "id": "vuxm_8DH04gd",
        "outputId": "d676c35f-e3a1-429d-8a67-81c47d729ee1"
      },
      "outputs": [
        {
          "name": "stdout",
          "output_type": "stream",
          "text": [
            "Best parameters for SVM without scaling in RBF on Y: {'clf__C': 5.0, 'clf__decision_function_shape': 'ovo', 'clf__gamma': 'scale', 'scaler': StandardScaler()}\n",
            "Best score for SVM without scaling in RBF on Y: -0.40090238571477804\n"
          ]
        }
      ],
      "source": [
        "params4 = {\n",
        "    'scaler': [StandardScaler(), MinMaxScaler()],\n",
        "    'clf__C': np.linspace(0.001, 5, 10),\n",
        "    'clf__gamma': list(np.linspace(0.001, 5, 10)) + ['scale', 'auto'],\n",
        "    'clf__decision_function_shape': ['ovo', 'ovr']\n",
        "}\n",
        "gcv4 = GridSearchCV(pipeline2, param_grid=params4, cv=Kfold, scoring='neg_log_loss')\n",
        "gcv4.fit(X, y)\n",
        "\n",
        "print(f\"Best parameters for SVM without scaling in RBF on Y: {gcv4.best_params_}\")\n",
        "print(f\"Best score for SVM without scaling in RBF on Y: {gcv4.best_score_}\")"
      ]
    },
    {
      "cell_type": "code",
      "execution_count": 17,
      "metadata": {
        "colab": {
          "base_uri": "https://localhost:8080/"
        },
        "id": "bxAKU5So04gd",
        "outputId": "d05f1ecd-82b5-4e5d-ad13-35ca38045d7a"
      },
      "outputs": [
        {
          "data": {
            "text/plain": [
              "0.9094488188976378"
            ]
          },
          "execution_count": 17,
          "metadata": {},
          "output_type": "execute_result"
        }
      ],
      "source": [
        "bm4 = gcv4.best_estimator_\n",
        "y_pred4 = bm4.predict(X_test)\n",
        "accuracy_score(y_test, y_pred4)"
      ]
    }
  ],
  "metadata": {
    "colab": {
      "provenance": []
    },
    "kernelspec": {
      "display_name": "da310",
      "language": "python",
      "name": "python3"
    },
    "language_info": {
      "codemirror_mode": {
        "name": "ipython",
        "version": 3
      },
      "file_extension": ".py",
      "mimetype": "text/x-python",
      "name": "python",
      "nbconvert_exporter": "python",
      "pygments_lexer": "ipython3",
      "version": "3.10.13"
    }
  },
  "nbformat": 4,
  "nbformat_minor": 0
}

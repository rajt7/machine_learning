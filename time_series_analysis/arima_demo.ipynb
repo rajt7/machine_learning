{
 "cells": [
  {
   "cell_type": "code",
   "execution_count": 10,
   "metadata": {},
   "outputs": [],
   "source": [
    "import pandas as pd\n",
    "import pmdarima as pm\n",
    "from pmdarima import model_selection\n",
    "from pmdarima.arima import auto_arima"
   ]
  },
  {
   "cell_type": "code",
   "execution_count": null,
   "metadata": {},
   "outputs": [],
   "source": []
  },
  {
   "cell_type": "code",
   "execution_count": 11,
   "metadata": {},
   "outputs": [
    {
     "data": {
      "text/plain": [
       "array([ 269.,  321.,  585.,  871., 1475., 2821., 3928., 5943., 4950.,\n",
       "       2577.,  523.,   98.,  184.,  279.,  409., 2285., 2685., 3409.,\n",
       "       1824.,  409.,  151.,   45.,   68.,  213.,  546., 1033., 2129.,\n",
       "       2536.,  957.,  361.,  377.,  225.,  360.,  731., 1638., 2725.,\n",
       "       2871., 2119.,  684.,  299.,  236.,  245.,  552., 1623., 3311.,\n",
       "       6721., 4254.,  687.,  255.,  473.,  358.,  784., 1594., 1676.,\n",
       "       2251., 1426.,  756.,  299.,  201.,  229.,  469.,  736., 2042.,\n",
       "       2811., 4431., 2511.,  389.,   73.,   39.,   49.,   59.,  188.,\n",
       "        377., 1292., 4031., 3495.,  587.,  105.,  153.,  387.,  758.,\n",
       "       1307., 3465., 6991., 6313., 3794., 1836.,  345.,  382.,  808.,\n",
       "       1388., 2713., 3800., 3091., 2985., 3790.,  674.,   81.,   80.,\n",
       "        108.,  229.,  399., 1132., 2432., 3574., 2935., 1537.,  529.,\n",
       "        485.,  662., 1000., 1590., 2657., 3396.])"
      ]
     },
     "execution_count": 11,
     "metadata": {},
     "output_type": "execute_result"
    }
   ],
   "source": [
    "y = pm.datasets.load_lynx()\n",
    "y"
   ]
  },
  {
   "cell_type": "code",
   "execution_count": 12,
   "metadata": {},
   "outputs": [],
   "source": [
    "train, test = model_selection.train_test_split(y, train_size=90)"
   ]
  }
 ],
 "metadata": {
  "kernelspec": {
   "display_name": "base",
   "language": "python",
   "name": "python3"
  },
  "language_info": {
   "codemirror_mode": {
    "name": "ipython",
    "version": 3
   },
   "file_extension": ".py",
   "mimetype": "text/x-python",
   "name": "python",
   "nbconvert_exporter": "python",
   "pygments_lexer": "ipython3",
   "version": "3.11.4"
  }
 },
 "nbformat": 4,
 "nbformat_minor": 2
}
